{
 "cells": [
  {
   "cell_type": "code",
   "execution_count": 1,
   "metadata": {},
   "outputs": [
    {
     "name": "stderr",
     "output_type": "stream",
     "text": [
      "WARNING:root:The OGB package is out of date. Your version is 1.3.2, while the latest version is 1.3.3.\n"
     ]
    },
    {
     "name": "stdout",
     "output_type": "stream",
     "text": [
      "Graph(num_nodes=169343, num_edges=2332486,\n",
      "      ndata_schemes={'year': Scheme(shape=(1,), dtype=torch.int64), 'feat': Scheme(shape=(128,), dtype=torch.float32)}\n",
      "      edata_schemes={})\n",
      "tensor([[ 4],\n",
      "        [ 5],\n",
      "        [28],\n",
      "        ...,\n",
      "        [10],\n",
      "        [ 4],\n",
      "        [ 1]])\n"
     ]
    }
   ],
   "source": [
    "import dgl\n",
    "import torch\n",
    "import numpy as np\n",
    "from ogb.nodeproppred import DglNodePropPredDataset\n",
    "from sklearn.metrics import roc_auc_score, roc_curve\n",
    "import matplotlib.pyplot as plt\n",
    "import tqdm\n",
    "dataset = DglNodePropPredDataset('ogbn-arxiv',root='data/')\n",
    "device = 'cuda' if torch.cuda.is_available() else 'cpu'\n",
    "\n",
    "graph, node_labels = dataset[0]\n",
    "# Add reverse edges since ogbn-arxiv is unidirectional.\n",
    "graph = dgl.add_reverse_edges(graph)\n",
    "print(graph)\n",
    "print(node_labels)\n",
    "\n",
    "def get_node_feat(mode):\n",
    "    \n",
    "    if mode == 'xrt':\n",
    "        return graph.ndata['xrt_features']\n",
    "    elif mode == 'feat':\n",
    "        return graph.ndata['feat']"
   ]
  },
  {
   "cell_type": "code",
   "execution_count": 2,
   "metadata": {},
   "outputs": [
    {
     "name": "stdout",
     "output_type": "stream",
     "text": [
      "Number of classes: 40\n"
     ]
    }
   ],
   "source": [
    "xrt_feature = np.load(\"/home/zhangxinjie/pecos/examples/giant-xrt/proc_data_xrt/ogbn-arxiv/X.all.xrt-emb.npy\")\n",
    "graph.ndata['xrt_features'] = torch.from_numpy(xrt_feature)\n",
    "node_features = get_node_feat('feat')\n",
    "node_labels = node_labels[:, 0]\n",
    "num_features = node_features.shape[1]\n",
    "num_classes = (node_labels.max() + 1).item()\n",
    "print('Number of classes:', num_classes)\n",
    "\n",
    "idx_split = dataset.get_idx_split()\n",
    "train_nids = idx_split['train']\n",
    "valid_nids = idx_split['valid']\n",
    "test_nids = idx_split['test']"
   ]
  },
  {
   "cell_type": "code",
   "execution_count": 3,
   "metadata": {},
   "outputs": [],
   "source": [
    "negative_sampler = dgl.dataloading.negative_sampler.Uniform(5)\n",
    "sampler = dgl.dataloading.NeighborSampler([4, 4])\n",
    "sampler = dgl.dataloading.as_edge_prediction_sampler(\n",
    "    sampler, negative_sampler=negative_sampler)\n",
    "train_dataloader = dgl.dataloading.DataLoader(\n",
    "    # The following arguments are specific to DataLoader.\n",
    "    dgl.node_subgraph(graph, train_nids),                                  # The graph\n",
    "    torch.arange(dgl.node_subgraph(graph, train_nids).number_of_edges()),  # The edges to iterate over\n",
    "    sampler,                                # The neighbor sampler\n",
    "    device=device,                          # Put the MFGs on CPU or GPU\n",
    "    # The following arguments are inherited from PyTorch DataLoader.\n",
    "    batch_size=1024,    # Batch size\n",
    "    shuffle=True,       # Whether to shuffle the nodes for every epoch\n",
    "    drop_last=False,    # Whether to drop the last incomplete batch\n",
    "    num_workers=0       # Number of sampler processes\n",
    ")"
   ]
  },
  {
   "cell_type": "code",
   "execution_count": 5,
   "metadata": {},
   "outputs": [],
   "source": [
    "import torch.nn as nn\n",
    "import torch.nn.functional as F\n",
    "from dgl.nn import SAGEConv\n",
    "\n",
    "\n",
    "class Model(nn.Module):\n",
    "    def __init__(self, in_feats, n_hidden):\n",
    "        super().__init__()\n",
    "        self.n_hidden = n_hidden\n",
    "        self.layers = nn.ModuleList()\n",
    "        self.layers.append(SAGEConv(in_feats, n_hidden, 'mean'))\n",
    "        self.layers.append(SAGEConv(n_hidden, n_hidden, 'mean'))\n",
    "        self.predictor = nn.Sequential(\n",
    "            nn.Linear(n_hidden, n_hidden),\n",
    "            nn.ReLU(),\n",
    "            nn.Linear(n_hidden, n_hidden),\n",
    "            nn.ReLU(),\n",
    "            nn.Linear(n_hidden, 1))\n",
    "\n",
    "    def predict(self, h_src, h_dst):\n",
    "        return self.predictor(h_src * h_dst)\n",
    "\n",
    "    def forward(self, pair_graph, neg_pair_graph, blocks, x):\n",
    "        h = x\n",
    "        for l, (layer, block) in enumerate(zip(self.layers, blocks)):\n",
    "            h = layer(block, h)\n",
    "            if l != len(self.layers) - 1:\n",
    "                h = F.relu(h)\n",
    "        pos_src, pos_dst = pair_graph.edges()\n",
    "        neg_src, neg_dst = neg_pair_graph.edges()\n",
    "        h_pos = self.predict(h[pos_src], h[pos_dst])\n",
    "        h_neg = self.predict(h[neg_src], h[neg_dst])\n",
    "        return h_pos, h_neg\n",
    "\n",
    "    def inference(self, g, device, batch_size, num_workers, mode, buffer_device=None):\n",
    "        feat = g.ndata[mode]\n",
    "        sampler = dgl.dataloading.MultiLayerFullNeighborSampler(1, prefetch_node_feats=[mode])\n",
    "        dataloader = dgl.dataloading.DataLoader(\n",
    "                g, torch.arange(g.num_nodes()).to(g.device), sampler, device=device,\n",
    "                batch_size=1024, shuffle=False, drop_last=False, num_workers=num_workers)\n",
    "        if buffer_device is None:\n",
    "            buffer_device = device\n",
    "\n",
    "        for l, layer in enumerate(self.layers):\n",
    "            y = torch.zeros(g.num_nodes(), self.n_hidden, device=buffer_device)\n",
    "            index = []\n",
    "            feat = feat.to(device)\n",
    "\n",
    "            for input_nodes, output_nodes, blocks in tqdm.tqdm(dataloader):\n",
    "                x = feat[input_nodes]\n",
    "                h = layer(blocks[0], x)\n",
    "                index.append(blocks[-1].dstdata[dgl.NID])\n",
    "                if l != len(self.layers) - 1:\n",
    "                    h = F.relu(h)\n",
    "                y[output_nodes] = h.to(buffer_device)\n",
    "            feat = y\n",
    "        return y,torch.cat(index)  #get the embedding of the graph and index of the original nodes\n",
    "\n"
   ]
  },
  {
   "cell_type": "code",
   "execution_count": 6,
   "metadata": {},
   "outputs": [],
   "source": [
    "model = Model(node_features.shape[1], 256).to(device)\n",
    "opt = torch.optim.Adam(model.parameters(), lr=0.001, weight_decay=5e-4)"
   ]
  },
  {
   "cell_type": "code",
   "execution_count": 8,
   "metadata": {},
   "outputs": [],
   "source": [
    "def get_threshold(y_true,y_scores):\n",
    "    tpr, fpr, thresholds = roc_curve(y_true, y_scores)\n",
    "    tnr = 1 - fpr\n",
    "    idx1 = np.where(tpr <= tnr)[0]\n",
    "    t = thresholds[idx1[-1]]\n",
    "    return t  # use the Youden Index as threshold"
   ]
  },
  {
   "cell_type": "code",
   "execution_count": 9,
   "metadata": {},
   "outputs": [],
   "source": [
    "def train(mode):\n",
    "    \n",
    "    #best_model_path = 'model.pt'\n",
    "    for epoch in range(1):\n",
    "        global y_true\n",
    "        global y_scores\n",
    "        y_true, y_scores = [],[]\n",
    "        model.train()\n",
    "        with tqdm.tqdm(train_dataloader) as tq:\n",
    "            for step, (input_nodes, pair_graph, neg_pair_graph, blocks) in enumerate(tq):\n",
    "                x = blocks[0].srcdata[mode]\n",
    "                pos_score, neg_score = model(pair_graph, neg_pair_graph, blocks, x)\n",
    "                pos_label = torch.ones_like(pos_score)\n",
    "                neg_label = torch.zeros_like(neg_score)\n",
    "                score = torch.cat([pos_score, neg_score])\n",
    "                labels = torch.cat([pos_label, neg_label])\n",
    "                y_true.extend(labels.cpu().detach().numpy())\n",
    "                y_scores.extend(score.cpu().detach().numpy())\n",
    "                #loss = F.binary_cross_entropy_with_logits(score, labels)\n",
    "                n_edges = pos_score.shape[0]\n",
    "                loss = (1 - pos_score + neg_score.view(n_edges, -1)).clamp(min=0).mean()\n",
    "                opt.zero_grad()\n",
    "                loss.backward()\n",
    "                opt.step()\n",
    "                tq.set_postfix({'loss': '%.03f' % loss.item()}, refresh=False)\n",
    "                if (step+1) % 200 == 0:\n",
    "                    with torch.no_grad():\n",
    "                        auc = roc_auc_score(y_true, y_scores) \n",
    "                        print(f\"auc:\",auc)\n",
    "                        if auc >=0.9:\n",
    "                            break\n",
    "                "
   ]
  },
  {
   "cell_type": "code",
   "execution_count": 10,
   "metadata": {},
   "outputs": [],
   "source": [
    "def tpr_tnr_plot():         # to plot tpr_tnr curve \n",
    "    tpr, fpr, thresholds = roc_curve(y_true, y_scores)\n",
    "    tnr = 1 - fpr\n",
    "    plt.plot(thresholds, tpr, label='tpr')\n",
    "    plt.plot(thresholds, tnr, label='tnr')\n",
    "    plt.xlabel('Threshold')\n",
    "    plt.title('TPR / TNR vs Threshold')\n",
    "    plt.legend()"
   ]
  },
  {
   "cell_type": "code",
   "execution_count": 21,
   "metadata": {},
   "outputs": [],
   "source": [
    "def evaluate(mode):\n",
    "    from math import ceil\n",
    "    model.eval()\n",
    "    negative_sampler = dgl.dataloading.negative_sampler.Uniform(5)\n",
    "    sampler = dgl.dataloading.NeighborSampler([4, 4])\n",
    "    sampler = dgl.dataloading.as_edge_prediction_sampler(\n",
    "        sampler, negative_sampler=negative_sampler)\n",
    "    test_dataloader = dgl.dataloading.DataLoader(\n",
    "        # The following arguments are specific to DataLoader.\n",
    "        dgl.node_subgraph(graph, test_nids),                                  # The graph\n",
    "        torch.arange(dgl.node_subgraph(graph, test_nids).number_of_edges()),  # The edges to iterate over\n",
    "        sampler,                                # The neighbor sampler\n",
    "        device=device,                          # Put the MFGs on CPU or GPU\n",
    "        # The following arguments are inherited from PyTorch DataLoader.\n",
    "        batch_size=1024,    # Batch size\n",
    "        shuffle=True,       # Whether to shuffle the nodes for every epoch\n",
    "        drop_last=False,    # Whether to drop the last incomplete batch\n",
    "        num_workers=0       # Number of sampler processes\n",
    "    )\n",
    "    running_loss, total_loss = 0.0, 0.0\n",
    "    num_correct, num_examples = 0, 0\n",
    "    total_correct, total_examples = 0, 0\n",
    "    test_y_true = []\n",
    "    test_y_scores = []\n",
    "    nums_batches = int(ceil(dgl.node_subgraph(graph, test_nids).number_of_edges()/1024))\n",
    "    print('num_batches', nums_batches)\n",
    "    for idx, (input_nodes, pos_graph, neg_graph, block) in enumerate(test_dataloader):\n",
    "        y = block[0].srcdata[mode]\n",
    "        pos_score, neg_score = model(pos_graph, neg_graph, block, y)\n",
    "        pos_label = torch.ones_like(pos_score)\n",
    "        neg_label = torch.zeros_like(neg_score)\n",
    "        score = torch.cat([pos_score, neg_score])\n",
    "        labels = torch.cat([pos_label, neg_label])\n",
    "        test_y_true.extend(labels.cpu().detach().numpy())\n",
    "        test_y_scores.extend(score.cpu().detach().numpy())\n",
    "        #loss = F.binary_cross_entropy_with_logits(score, labels)\n",
    "        n_edges = pos_score.shape[0]\n",
    "        loss = (1 - pos_score + neg_score.view(n_edges, -1)).clamp(min=0).mean()\n",
    "        \n",
    "        total_loss += loss.item()\n",
    "        running_loss += loss.item()\n",
    "        predictions = (score >= threshold).long()\n",
    "        num_correct += torch.sum(predictions == labels.long()).item()\n",
    "        total_correct += torch.sum(predictions == labels.long()).item()\n",
    "        num_examples += len(labels)\n",
    "        total_examples += len(labels)\n",
    "        if (idx + 1) % 30 == 0:\n",
    "            running_loss /= 30\n",
    "            accuracy = num_correct / num_examples\n",
    "            print('    step:{}, loss {:.4f}, accuracy {:.4f}'.format(\n",
    "                idx+1, running_loss, accuracy))\n",
    "            if (torch.sum(labels.long() == 0).item() > 0) and (torch.sum(labels.long() == 1).item() > 0):\n",
    "                auc = roc_auc_score(test_y_true, test_y_scores)\n",
    "                print('    ROC-AUC score: {:.4f}'.format(auc))\n",
    "            running_loss = 0.0\n",
    "            num_correct, num_examples = 0, 0\n",
    "    total_loss /= nums_batches\n",
    "    total_accuracy = total_correct / total_examples\n",
    "    print('Loss {:.4f}, accuracy {:.4f}'.format(total_loss, total_accuracy))"
   ]
  },
  {
   "cell_type": "code",
   "execution_count": 12,
   "metadata": {},
   "outputs": [
    {
     "name": "stderr",
     "output_type": "stream",
     "text": [
      " 27%|██▋       | 201/733 [00:29<10:34,  1.19s/it, loss=0.036]"
     ]
    },
    {
     "name": "stdout",
     "output_type": "stream",
     "text": [
      "auc: 0.8505730110120773\n"
     ]
    },
    {
     "name": "stderr",
     "output_type": "stream",
     "text": [
      " 55%|█████▍    | 400/733 [01:03<19:58,  3.60s/it, loss=0.037]"
     ]
    },
    {
     "name": "stdout",
     "output_type": "stream",
     "text": [
      "auc: 0.8962520208615066\n"
     ]
    },
    {
     "name": "stderr",
     "output_type": "stream",
     "text": [
      " 82%|████████▏ | 599/733 [01:26<00:15,  8.46it/s, loss=0.034]"
     ]
    },
    {
     "name": "stdout",
     "output_type": "stream",
     "text": [
      "auc: 0.9123031154693495\n"
     ]
    },
    {
     "name": "stderr",
     "output_type": "stream",
     "text": [
      "\n"
     ]
    }
   ],
   "source": [
    "train('feat')"
   ]
  },
  {
   "cell_type": "code",
   "execution_count": 14,
   "metadata": {},
   "outputs": [],
   "source": [
    "threshold = get_threshold(y_true, y_scores)"
   ]
  },
  {
   "cell_type": "code",
   "execution_count": 22,
   "metadata": {},
   "outputs": [
    {
     "name": "stdout",
     "output_type": "stream",
     "text": [
      "num_batches 118\n",
      "    step:30, loss 0.0287, accuracy 0.9279\n",
      "    ROC-AUC score: 0.9848\n",
      "    step:60, loss 0.0284, accuracy 0.9285\n",
      "    ROC-AUC score: 0.9848\n",
      "    step:90, loss 0.0286, accuracy 0.9277\n",
      "    ROC-AUC score: 0.9848\n",
      "Loss 0.0282, accuracy 0.9280\n"
     ]
    }
   ],
   "source": [
    "evaluate('feat')"
   ]
  },
  {
   "cell_type": "code",
   "execution_count": 23,
   "metadata": {},
   "outputs": [
    {
     "name": "stderr",
     "output_type": "stream",
     "text": [
      "/home/zhangxinjie/anaconda3/lib/python3.7/site-packages/IPython/core/events.py:88: UserWarning: Creating legend with loc=\"best\" can be slow with large amounts of data.\n",
      "  func(*args, **kwargs)\n",
      "/home/zhangxinjie/anaconda3/lib/python3.7/site-packages/IPython/core/pylabtools.py:128: UserWarning: Creating legend with loc=\"best\" can be slow with large amounts of data.\n",
      "  fig.canvas.print_figure(bytes_io, **kw)\n"
     ]
    },
    {
     "data": {
      "image/png": "[encoded data removed]",
      "text/plain": [
       "<Figure size 432x288 with 1 Axes>"
      ]
     },
     "metadata": {
      "needs_background": "light"
     },
     "output_type": "display_data"
    }
   ],
   "source": [
    "tpr_tnr_plot()"
   ]
  },
  {
   "cell_type": "code",
   "execution_count": 24,
   "metadata": {},
   "outputs": [],
   "source": [
    "# train with features generated by XR-transformer\n",
    "node_features = get_node_feat('xrt')\n",
    "model = Model(node_features.shape[1], 256).to(device)\n",
    "opt = torch.optim.Adam(model.parameters(), lr=0.001, weight_decay=5e-4)"
   ]
  },
  {
   "cell_type": "code",
   "execution_count": 25,
   "metadata": {},
   "outputs": [
    {
     "name": "stderr",
     "output_type": "stream",
     "text": [
      " 27%|██▋       | 201/733 [00:41<09:38,  1.09s/it, loss=0.037]"
     ]
    },
    {
     "name": "stdout",
     "output_type": "stream",
     "text": [
      "auc: 0.8725869005131721\n"
     ]
    },
    {
     "name": "stderr",
     "output_type": "stream",
     "text": [
      " 54%|█████▍    | 399/733 [01:16<01:01,  5.43it/s, loss=0.028]"
     ]
    },
    {
     "name": "stdout",
     "output_type": "stream",
     "text": [
      "auc: 0.915805193018913\n"
     ]
    },
    {
     "name": "stderr",
     "output_type": "stream",
     "text": [
      "\n"
     ]
    }
   ],
   "source": [
    "train('xrt_features')"
   ]
  },
  {
   "cell_type": "code",
   "execution_count": 26,
   "metadata": {},
   "outputs": [],
   "source": [
    "threshold = get_threshold(y_true, y_scores)"
   ]
  },
  {
   "cell_type": "code",
   "execution_count": 27,
   "metadata": {},
   "outputs": [
    {
     "name": "stdout",
     "output_type": "stream",
     "text": [
      "num_batches 118\n",
      "    step:30, loss 0.0575, accuracy 0.9108\n",
      "    ROC-AUC score: 0.9646\n",
      "    step:60, loss 0.0584, accuracy 0.9104\n",
      "    ROC-AUC score: 0.9644\n",
      "    step:90, loss 0.0583, accuracy 0.9096\n",
      "    ROC-AUC score: 0.9645\n",
      "Loss 0.0580, accuracy 0.9107\n"
     ]
    }
   ],
   "source": [
    "evaluate('xrt_features')"
   ]
  }
 ],
 "metadata": {
  "kernelspec": {
   "display_name": "Python 3.7.3 ('base')",
   "language": "python",
   "name": "python3"
  },
  "language_info": {
   "codemirror_mode": {
    "name": "ipython",
    "version": 3
   },
   "file_extension": ".py",
   "mimetype": "text/x-python",
   "name": "python",
   "nbconvert_exporter": "python",
   "pygments_lexer": "ipython3",
   "version": "3.7.3"
  },
  "orig_nbformat": 4,
  "vscode": {
   "interpreter": {
    "hash": "f091c1f6dfbf53485d128875d9f476191dd1e54dae17713ee9483bc0589748b2"
   }
  }
 },
 "nbformat": 4,
 "nbformat_minor": 2
}
